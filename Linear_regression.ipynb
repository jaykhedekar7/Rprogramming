{
 "cells": [
  {
   "cell_type": "markdown",
   "metadata": {},
   "source": [
    "# Linear Regression Modelling"
   ]
  },
  {
   "cell_type": "code",
   "execution_count": 1,
   "metadata": {},
   "outputs": [
    {
     "name": "stderr",
     "output_type": "stream",
     "text": [
      "\n",
      "Attaching package: 'dplyr'\n",
      "\n",
      "\n",
      "The following objects are masked from 'package:stats':\n",
      "\n",
      "    filter, lag\n",
      "\n",
      "\n",
      "The following objects are masked from 'package:base':\n",
      "\n",
      "    intersect, setdiff, setequal, union\n",
      "\n",
      "\n",
      "corrplot 0.84 loaded\n",
      "\n"
     ]
    }
   ],
   "source": [
    "library(dplyr)\n",
    "library(ggplot2)\n",
    "library(readr)\n",
    "library(tidyr)\n",
    "library(corrplot)"
   ]
  },
  {
   "cell_type": "code",
   "execution_count": 2,
   "metadata": {},
   "outputs": [],
   "source": [
    "#Data Set\n",
    "library(gapminder)"
   ]
  },
  {
   "cell_type": "code",
   "execution_count": 3,
   "metadata": {},
   "outputs": [
    {
     "data": {
      "text/html": [
       "<table>\n",
       "<caption>A tibble: 10 × 6</caption>\n",
       "<thead>\n",
       "\t<tr><th scope=col>country</th><th scope=col>continent</th><th scope=col>year</th><th scope=col>lifeExp</th><th scope=col>pop</th><th scope=col>gdpPercap</th></tr>\n",
       "\t<tr><th scope=col>&lt;fct&gt;</th><th scope=col>&lt;fct&gt;</th><th scope=col>&lt;int&gt;</th><th scope=col>&lt;dbl&gt;</th><th scope=col>&lt;int&gt;</th><th scope=col>&lt;dbl&gt;</th></tr>\n",
       "</thead>\n",
       "<tbody>\n",
       "\t<tr><td>Afghanistan</td><td>Asia</td><td>1952</td><td>28.801</td><td> 8425333</td><td>779.4453</td></tr>\n",
       "\t<tr><td>Afghanistan</td><td>Asia</td><td>1957</td><td>30.332</td><td> 9240934</td><td>820.8530</td></tr>\n",
       "\t<tr><td>Afghanistan</td><td>Asia</td><td>1962</td><td>31.997</td><td>10267083</td><td>853.1007</td></tr>\n",
       "\t<tr><td>Afghanistan</td><td>Asia</td><td>1967</td><td>34.020</td><td>11537966</td><td>836.1971</td></tr>\n",
       "\t<tr><td>Afghanistan</td><td>Asia</td><td>1972</td><td>36.088</td><td>13079460</td><td>739.9811</td></tr>\n",
       "\t<tr><td>Afghanistan</td><td>Asia</td><td>1977</td><td>38.438</td><td>14880372</td><td>786.1134</td></tr>\n",
       "\t<tr><td>Afghanistan</td><td>Asia</td><td>1982</td><td>39.854</td><td>12881816</td><td>978.0114</td></tr>\n",
       "\t<tr><td>Afghanistan</td><td>Asia</td><td>1987</td><td>40.822</td><td>13867957</td><td>852.3959</td></tr>\n",
       "\t<tr><td>Afghanistan</td><td>Asia</td><td>1992</td><td>41.674</td><td>16317921</td><td>649.3414</td></tr>\n",
       "\t<tr><td>Afghanistan</td><td>Asia</td><td>1997</td><td>41.763</td><td>22227415</td><td>635.3414</td></tr>\n",
       "</tbody>\n",
       "</table>\n"
      ],
      "text/latex": [
       "A tibble: 10 × 6\n",
       "\\begin{tabular}{llllll}\n",
       " country & continent & year & lifeExp & pop & gdpPercap\\\\\n",
       " <fct> & <fct> & <int> & <dbl> & <int> & <dbl>\\\\\n",
       "\\hline\n",
       "\t Afghanistan & Asia & 1952 & 28.801 &  8425333 & 779.4453\\\\\n",
       "\t Afghanistan & Asia & 1957 & 30.332 &  9240934 & 820.8530\\\\\n",
       "\t Afghanistan & Asia & 1962 & 31.997 & 10267083 & 853.1007\\\\\n",
       "\t Afghanistan & Asia & 1967 & 34.020 & 11537966 & 836.1971\\\\\n",
       "\t Afghanistan & Asia & 1972 & 36.088 & 13079460 & 739.9811\\\\\n",
       "\t Afghanistan & Asia & 1977 & 38.438 & 14880372 & 786.1134\\\\\n",
       "\t Afghanistan & Asia & 1982 & 39.854 & 12881816 & 978.0114\\\\\n",
       "\t Afghanistan & Asia & 1987 & 40.822 & 13867957 & 852.3959\\\\\n",
       "\t Afghanistan & Asia & 1992 & 41.674 & 16317921 & 649.3414\\\\\n",
       "\t Afghanistan & Asia & 1997 & 41.763 & 22227415 & 635.3414\\\\\n",
       "\\end{tabular}\n"
      ],
      "text/markdown": [
       "\n",
       "A tibble: 10 × 6\n",
       "\n",
       "| country &lt;fct&gt; | continent &lt;fct&gt; | year &lt;int&gt; | lifeExp &lt;dbl&gt; | pop &lt;int&gt; | gdpPercap &lt;dbl&gt; |\n",
       "|---|---|---|---|---|---|\n",
       "| Afghanistan | Asia | 1952 | 28.801 |  8425333 | 779.4453 |\n",
       "| Afghanistan | Asia | 1957 | 30.332 |  9240934 | 820.8530 |\n",
       "| Afghanistan | Asia | 1962 | 31.997 | 10267083 | 853.1007 |\n",
       "| Afghanistan | Asia | 1967 | 34.020 | 11537966 | 836.1971 |\n",
       "| Afghanistan | Asia | 1972 | 36.088 | 13079460 | 739.9811 |\n",
       "| Afghanistan | Asia | 1977 | 38.438 | 14880372 | 786.1134 |\n",
       "| Afghanistan | Asia | 1982 | 39.854 | 12881816 | 978.0114 |\n",
       "| Afghanistan | Asia | 1987 | 40.822 | 13867957 | 852.3959 |\n",
       "| Afghanistan | Asia | 1992 | 41.674 | 16317921 | 649.3414 |\n",
       "| Afghanistan | Asia | 1997 | 41.763 | 22227415 | 635.3414 |\n",
       "\n"
      ],
      "text/plain": [
       "   country     continent year lifeExp pop      gdpPercap\n",
       "1  Afghanistan Asia      1952 28.801   8425333 779.4453 \n",
       "2  Afghanistan Asia      1957 30.332   9240934 820.8530 \n",
       "3  Afghanistan Asia      1962 31.997  10267083 853.1007 \n",
       "4  Afghanistan Asia      1967 34.020  11537966 836.1971 \n",
       "5  Afghanistan Asia      1972 36.088  13079460 739.9811 \n",
       "6  Afghanistan Asia      1977 38.438  14880372 786.1134 \n",
       "7  Afghanistan Asia      1982 39.854  12881816 978.0114 \n",
       "8  Afghanistan Asia      1987 40.822  13867957 852.3959 \n",
       "9  Afghanistan Asia      1992 41.674  16317921 649.3414 \n",
       "10 Afghanistan Asia      1997 41.763  22227415 635.3414 "
      ]
     },
     "metadata": {},
     "output_type": "display_data"
    }
   ],
   "source": [
    "gapminder[1:10,]"
   ]
  },
  {
   "cell_type": "code",
   "execution_count": 4,
   "metadata": {},
   "outputs": [
    {
     "data": {
      "text/html": [
       "<table>\n",
       "<caption>A tibble: 10 × 6</caption>\n",
       "<thead>\n",
       "\t<tr><th scope=col>country</th><th scope=col>continent</th><th scope=col>year</th><th scope=col>lifeExp</th><th scope=col>pop</th><th scope=col>gdpPercap</th></tr>\n",
       "\t<tr><th scope=col>&lt;fct&gt;</th><th scope=col>&lt;fct&gt;</th><th scope=col>&lt;int&gt;</th><th scope=col>&lt;dbl&gt;</th><th scope=col>&lt;int&gt;</th><th scope=col>&lt;dbl&gt;</th></tr>\n",
       "</thead>\n",
       "<tbody>\n",
       "\t<tr><td>Afghanistan</td><td>Asia</td><td>1952</td><td>28.801</td><td> 8425333</td><td>779.4453</td></tr>\n",
       "\t<tr><td>Afghanistan</td><td>Asia</td><td>1957</td><td>30.332</td><td> 9240934</td><td>820.8530</td></tr>\n",
       "\t<tr><td>Afghanistan</td><td>Asia</td><td>1962</td><td>31.997</td><td>10267083</td><td>853.1007</td></tr>\n",
       "\t<tr><td>Afghanistan</td><td>Asia</td><td>1967</td><td>34.020</td><td>11537966</td><td>836.1971</td></tr>\n",
       "\t<tr><td>Afghanistan</td><td>Asia</td><td>1972</td><td>36.088</td><td>13079460</td><td>739.9811</td></tr>\n",
       "\t<tr><td>Afghanistan</td><td>Asia</td><td>1977</td><td>38.438</td><td>14880372</td><td>786.1134</td></tr>\n",
       "\t<tr><td>Afghanistan</td><td>Asia</td><td>1982</td><td>39.854</td><td>12881816</td><td>978.0114</td></tr>\n",
       "\t<tr><td>Afghanistan</td><td>Asia</td><td>1987</td><td>40.822</td><td>13867957</td><td>852.3959</td></tr>\n",
       "\t<tr><td>Afghanistan</td><td>Asia</td><td>1992</td><td>41.674</td><td>16317921</td><td>649.3414</td></tr>\n",
       "\t<tr><td>Afghanistan</td><td>Asia</td><td>1997</td><td>41.763</td><td>22227415</td><td>635.3414</td></tr>\n",
       "</tbody>\n",
       "</table>\n"
      ],
      "text/latex": [
       "A tibble: 10 × 6\n",
       "\\begin{tabular}{llllll}\n",
       " country & continent & year & lifeExp & pop & gdpPercap\\\\\n",
       " <fct> & <fct> & <int> & <dbl> & <int> & <dbl>\\\\\n",
       "\\hline\n",
       "\t Afghanistan & Asia & 1952 & 28.801 &  8425333 & 779.4453\\\\\n",
       "\t Afghanistan & Asia & 1957 & 30.332 &  9240934 & 820.8530\\\\\n",
       "\t Afghanistan & Asia & 1962 & 31.997 & 10267083 & 853.1007\\\\\n",
       "\t Afghanistan & Asia & 1967 & 34.020 & 11537966 & 836.1971\\\\\n",
       "\t Afghanistan & Asia & 1972 & 36.088 & 13079460 & 739.9811\\\\\n",
       "\t Afghanistan & Asia & 1977 & 38.438 & 14880372 & 786.1134\\\\\n",
       "\t Afghanistan & Asia & 1982 & 39.854 & 12881816 & 978.0114\\\\\n",
       "\t Afghanistan & Asia & 1987 & 40.822 & 13867957 & 852.3959\\\\\n",
       "\t Afghanistan & Asia & 1992 & 41.674 & 16317921 & 649.3414\\\\\n",
       "\t Afghanistan & Asia & 1997 & 41.763 & 22227415 & 635.3414\\\\\n",
       "\\end{tabular}\n"
      ],
      "text/markdown": [
       "\n",
       "A tibble: 10 × 6\n",
       "\n",
       "| country &lt;fct&gt; | continent &lt;fct&gt; | year &lt;int&gt; | lifeExp &lt;dbl&gt; | pop &lt;int&gt; | gdpPercap &lt;dbl&gt; |\n",
       "|---|---|---|---|---|---|\n",
       "| Afghanistan | Asia | 1952 | 28.801 |  8425333 | 779.4453 |\n",
       "| Afghanistan | Asia | 1957 | 30.332 |  9240934 | 820.8530 |\n",
       "| Afghanistan | Asia | 1962 | 31.997 | 10267083 | 853.1007 |\n",
       "| Afghanistan | Asia | 1967 | 34.020 | 11537966 | 836.1971 |\n",
       "| Afghanistan | Asia | 1972 | 36.088 | 13079460 | 739.9811 |\n",
       "| Afghanistan | Asia | 1977 | 38.438 | 14880372 | 786.1134 |\n",
       "| Afghanistan | Asia | 1982 | 39.854 | 12881816 | 978.0114 |\n",
       "| Afghanistan | Asia | 1987 | 40.822 | 13867957 | 852.3959 |\n",
       "| Afghanistan | Asia | 1992 | 41.674 | 16317921 | 649.3414 |\n",
       "| Afghanistan | Asia | 1997 | 41.763 | 22227415 | 635.3414 |\n",
       "\n"
      ],
      "text/plain": [
       "   country     continent year lifeExp pop      gdpPercap\n",
       "1  Afghanistan Asia      1952 28.801   8425333 779.4453 \n",
       "2  Afghanistan Asia      1957 30.332   9240934 820.8530 \n",
       "3  Afghanistan Asia      1962 31.997  10267083 853.1007 \n",
       "4  Afghanistan Asia      1967 34.020  11537966 836.1971 \n",
       "5  Afghanistan Asia      1972 36.088  13079460 739.9811 \n",
       "6  Afghanistan Asia      1977 38.438  14880372 786.1134 \n",
       "7  Afghanistan Asia      1982 39.854  12881816 978.0114 \n",
       "8  Afghanistan Asia      1987 40.822  13867957 852.3959 \n",
       "9  Afghanistan Asia      1992 41.674  16317921 649.3414 \n",
       "10 Afghanistan Asia      1997 41.763  22227415 635.3414 "
      ]
     },
     "metadata": {},
     "output_type": "display_data"
    }
   ],
   "source": [
    "head(gapminder, 10)"
   ]
  },
  {
   "cell_type": "markdown",
   "metadata": {},
   "source": [
    "## Theory\n",
    "\n",
    "#### Truth:\n",
    "Assume $f(x) = \\beta_{o} + \\beta_{1}x $ <br>\n",
    "Observed $y = f(x)+\\epsilon = \\beta_{o} + \\beta_{1}x + \\epsilon $ <br>\n",
    "\n",
    "#### Fitted:\n",
    "Assume $\\hat f(x) = \\hat\\beta_{o} + \\hat\\beta_{1}x $ <br>\n",
    "Predicted $\\hat y = \\hat f(\\vec x)= \\hat\\beta_{o} + \\hat\\beta_{1}x$ <br>\n",
    "\n",
    "The fitted model has no $\\epsilon$ since it only captures signal and not noise."
   ]
  },
  {
   "cell_type": "code",
   "execution_count": 5,
   "metadata": {},
   "outputs": [],
   "source": [
    "life_pop.regression = lm(pop~lifeExp, data =gapminder)"
   ]
  },
  {
   "cell_type": "code",
   "execution_count": 6,
   "metadata": {},
   "outputs": [
    {
     "data": {
      "text/plain": [
       "\n",
       "Call:\n",
       "lm(formula = pop ~ lifeExp, data = gapminder)\n",
       "\n",
       "Coefficients:\n",
       "(Intercept)      lifeExp  \n",
       "   -2147963       533829  \n"
      ]
     },
     "metadata": {},
     "output_type": "display_data"
    }
   ],
   "source": [
    "life_pop.regression"
   ]
  },
  {
   "cell_type": "markdown",
   "metadata": {},
   "source": [
    "The equation generated by this linear regression would be: <br>\n",
    "$Y = -21747693 + 533829*X$"
   ]
  },
  {
   "cell_type": "code",
   "execution_count": 7,
   "metadata": {},
   "outputs": [
    {
     "data": {
      "text/plain": [
       "\n",
       "Call:\n",
       "lm(formula = pop ~ lifeExp, data = gapminder)\n",
       "\n",
       "Residuals:\n",
       "       Min         1Q     Median         3Q        Max \n",
       " -41194356  -27908251  -19388365   -8866658 1281882368 \n",
       "\n",
       "Coefficients:\n",
       "            Estimate Std. Error t value Pr(>|t|)   \n",
       "(Intercept) -2147963   12098247  -0.178  0.85910   \n",
       "lifeExp       533829     198788   2.685  0.00731 **\n",
       "---\n",
       "Signif. codes:  0 '***' 0.001 '**' 0.01 '*' 0.05 '.' 0.1 ' ' 1\n",
       "\n",
       "Residual standard error: 1.06e+08 on 1702 degrees of freedom\n",
       "Multiple R-squared:  0.004219,\tAdjusted R-squared:  0.003634 \n",
       "F-statistic: 7.212 on 1 and 1702 DF,  p-value: 0.007314\n"
      ]
     },
     "metadata": {},
     "output_type": "display_data"
    }
   ],
   "source": [
    "summary(life_pop.regression)"
   ]
  },
  {
   "cell_type": "markdown",
   "metadata": {},
   "source": [
    "#### $R^{2}$ only explains  0.4% of variation which mean life-expectancy cannot completely explain the variation of population."
   ]
  },
  {
   "cell_type": "markdown",
   "metadata": {},
   "source": [
    "#### Moderndive package helps convert regression summary to table"
   ]
  },
  {
   "cell_type": "code",
   "execution_count": 9,
   "metadata": {},
   "outputs": [],
   "source": [
    "library(moderndive)"
   ]
  },
  {
   "cell_type": "code",
   "execution_count": 10,
   "metadata": {},
   "outputs": [
    {
     "data": {
      "text/html": [
       "<table>\n",
       "<caption>A tibble: 2 × 7</caption>\n",
       "<thead>\n",
       "\t<tr><th scope=col>term</th><th scope=col>estimate</th><th scope=col>std_error</th><th scope=col>statistic</th><th scope=col>p_value</th><th scope=col>lower_ci</th><th scope=col>upper_ci</th></tr>\n",
       "\t<tr><th scope=col>&lt;chr&gt;</th><th scope=col>&lt;dbl&gt;</th><th scope=col>&lt;dbl&gt;</th><th scope=col>&lt;dbl&gt;</th><th scope=col>&lt;dbl&gt;</th><th scope=col>&lt;dbl&gt;</th><th scope=col>&lt;dbl&gt;</th></tr>\n",
       "</thead>\n",
       "<tbody>\n",
       "\t<tr><td>intercept</td><td>-2147962.8</td><td>12098246.6</td><td>-0.178</td><td>0.859</td><td>-25876964.9</td><td>21581039.3</td></tr>\n",
       "\t<tr><td>lifeExp  </td><td>  533828.9</td><td>  198787.5</td><td> 2.685</td><td>0.007</td><td>   143935.2</td><td>  923722.6</td></tr>\n",
       "</tbody>\n",
       "</table>\n"
      ],
      "text/latex": [
       "A tibble: 2 × 7\n",
       "\\begin{tabular}{lllllll}\n",
       " term & estimate & std\\_error & statistic & p\\_value & lower\\_ci & upper\\_ci\\\\\n",
       " <chr> & <dbl> & <dbl> & <dbl> & <dbl> & <dbl> & <dbl>\\\\\n",
       "\\hline\n",
       "\t intercept & -2147962.8 & 12098246.6 & -0.178 & 0.859 & -25876964.9 & 21581039.3\\\\\n",
       "\t lifeExp   &   533828.9 &   198787.5 &  2.685 & 0.007 &    143935.2 &   923722.6\\\\\n",
       "\\end{tabular}\n"
      ],
      "text/markdown": [
       "\n",
       "A tibble: 2 × 7\n",
       "\n",
       "| term &lt;chr&gt; | estimate &lt;dbl&gt; | std_error &lt;dbl&gt; | statistic &lt;dbl&gt; | p_value &lt;dbl&gt; | lower_ci &lt;dbl&gt; | upper_ci &lt;dbl&gt; |\n",
       "|---|---|---|---|---|---|---|\n",
       "| intercept | -2147962.8 | 12098246.6 | -0.178 | 0.859 | -25876964.9 | 21581039.3 |\n",
       "| lifeExp   |   533828.9 |   198787.5 |  2.685 | 0.007 |    143935.2 |   923722.6 |\n",
       "\n"
      ],
      "text/plain": [
       "  term      estimate   std_error  statistic p_value lower_ci    upper_ci  \n",
       "1 intercept -2147962.8 12098246.6 -0.178    0.859   -25876964.9 21581039.3\n",
       "2 lifeExp     533828.9   198787.5  2.685    0.007      143935.2   923722.6"
      ]
     },
     "metadata": {},
     "output_type": "display_data"
    }
   ],
   "source": [
    "get_regression_table(life_pop.regression)"
   ]
  },
  {
   "cell_type": "code",
   "execution_count": 11,
   "metadata": {},
   "outputs": [
    {
     "data": {
      "text/html": [
       "<table>\n",
       "<caption>A tibble: 1 × 9</caption>\n",
       "<thead>\n",
       "\t<tr><th scope=col>r_squared</th><th scope=col>adj_r_squared</th><th scope=col>mse</th><th scope=col>rmse</th><th scope=col>sigma</th><th scope=col>statistic</th><th scope=col>p_value</th><th scope=col>df</th><th scope=col>nobs</th></tr>\n",
       "\t<tr><th scope=col>&lt;dbl&gt;</th><th scope=col>&lt;dbl&gt;</th><th scope=col>&lt;dbl&gt;</th><th scope=col>&lt;dbl&gt;</th><th scope=col>&lt;dbl&gt;</th><th scope=col>&lt;dbl&gt;</th><th scope=col>&lt;dbl&gt;</th><th scope=col>&lt;dbl&gt;</th><th scope=col>&lt;dbl&gt;</th></tr>\n",
       "</thead>\n",
       "<tbody>\n",
       "\t<tr><td>0.004</td><td>0.004</td><td>1.121537e+16</td><td>105902621</td><td>105964825</td><td>7.212</td><td>0.007</td><td>1</td><td>1704</td></tr>\n",
       "</tbody>\n",
       "</table>\n"
      ],
      "text/latex": [
       "A tibble: 1 × 9\n",
       "\\begin{tabular}{lllllllll}\n",
       " r\\_squared & adj\\_r\\_squared & mse & rmse & sigma & statistic & p\\_value & df & nobs\\\\\n",
       " <dbl> & <dbl> & <dbl> & <dbl> & <dbl> & <dbl> & <dbl> & <dbl> & <dbl>\\\\\n",
       "\\hline\n",
       "\t 0.004 & 0.004 & 1.121537e+16 & 105902621 & 105964825 & 7.212 & 0.007 & 1 & 1704\\\\\n",
       "\\end{tabular}\n"
      ],
      "text/markdown": [
       "\n",
       "A tibble: 1 × 9\n",
       "\n",
       "| r_squared &lt;dbl&gt; | adj_r_squared &lt;dbl&gt; | mse &lt;dbl&gt; | rmse &lt;dbl&gt; | sigma &lt;dbl&gt; | statistic &lt;dbl&gt; | p_value &lt;dbl&gt; | df &lt;dbl&gt; | nobs &lt;dbl&gt; |\n",
       "|---|---|---|---|---|---|---|---|---|\n",
       "| 0.004 | 0.004 | 1.121537e+16 | 105902621 | 105964825 | 7.212 | 0.007 | 1 | 1704 |\n",
       "\n"
      ],
      "text/plain": [
       "  r_squared adj_r_squared mse          rmse      sigma     statistic p_value df\n",
       "1 0.004     0.004         1.121537e+16 105902621 105964825 7.212     0.007   1 \n",
       "  nobs\n",
       "1 1704"
      ]
     },
     "metadata": {},
     "output_type": "display_data"
    }
   ],
   "source": [
    "get_regression_summaries(life_pop.regression)"
   ]
  },
  {
   "cell_type": "code",
   "execution_count": 13,
   "metadata": {},
   "outputs": [],
   "source": [
    "library(ggmap)"
   ]
  },
  {
   "cell_type": "code",
   "execution_count": 14,
   "metadata": {},
   "outputs": [
    {
     "ename": "ERROR",
     "evalue": "Error: Google now requires an API key.\n       See ?register_google for details.\n",
     "output_type": "error",
     "traceback": [
      "Error: Google now requires an API key.\n       See ?register_google for details.\nTraceback:\n",
      "1. get_map(\"Mumbai\", maptype = \"roadmap\", zoom = 10)",
      "2. get_googlemap(center = location, zoom = zoom, maptype = maptype, \n .     scale = scale, messaging = messaging, urlonly = urlonly, \n .     force = force, filename = filename, color = color, language = language)",
      "3. stop(\"Google now requires an API key.\", \"\\n       See ?register_google for details.\", \n .     call. = FALSE)"
     ]
    }
   ],
   "source": [
    "get_local_spot <-  get_map(\"Mumbai\", maptype = \"roadmap\", zoom = 10) "
   ]
  },
  {
   "cell_type": "code",
   "execution_count": 17,
   "metadata": {},
   "outputs": [],
   "source": [
    "library(mapview)"
   ]
  },
  {
   "cell_type": "code",
   "execution_count": 18,
   "metadata": {},
   "outputs": [
    {
     "name": "stderr",
     "output_type": "stream",
     "text": [
      "Parsed with column specification:\n",
      "cols(\n",
      "  .default = col_character(),\n",
      "  `Store Number` = \u001b[32mcol_double()\u001b[39m,\n",
      "  `Facility ID` = \u001b[32mcol_double()\u001b[39m,\n",
      "  `Food Region` = \u001b[32mcol_double()\u001b[39m,\n",
      "  Latitude = \u001b[32mcol_double()\u001b[39m,\n",
      "  Longitude = \u001b[32mcol_double()\u001b[39m\n",
      ")\n",
      "\n",
      "See spec(...) for full column specifications.\n",
      "\n"
     ]
    }
   ],
   "source": [
    "starbucks <- read_csv(\"https://raw.githubusercontent.com/libjohn/mapping-with-R/master/data/All_Starbucks_Locations_in_the_US_-_Map.csv\")"
   ]
  },
  {
   "cell_type": "code",
   "execution_count": 21,
   "metadata": {},
   "outputs": [
    {
     "data": {
      "text/html": [
       "<table>\n",
       "<caption>A tibble: 3 × 23</caption>\n",
       "<thead>\n",
       "\t<tr><th scope=col>Brand</th><th scope=col>Store Number</th><th scope=col>Name</th><th scope=col>Ownership Type</th><th scope=col>Facility ID</th><th scope=col>Features - Products</th><th scope=col>Features - Service</th><th scope=col>Features - Stations</th><th scope=col>Food Region</th><th scope=col>Venue Type</th><th scope=col>...</th><th scope=col>Street Line 1</th><th scope=col>Street Line 2</th><th scope=col>City</th><th scope=col>State</th><th scope=col>Zip</th><th scope=col>Country</th><th scope=col>Coordinates</th><th scope=col>Latitude</th><th scope=col>Longitude</th><th scope=col>Insert Date</th></tr>\n",
       "\t<tr><th scope=col>&lt;chr&gt;</th><th scope=col>&lt;dbl&gt;</th><th scope=col>&lt;chr&gt;</th><th scope=col>&lt;chr&gt;</th><th scope=col>&lt;dbl&gt;</th><th scope=col>&lt;chr&gt;</th><th scope=col>&lt;chr&gt;</th><th scope=col>&lt;chr&gt;</th><th scope=col>&lt;dbl&gt;</th><th scope=col>&lt;chr&gt;</th><th scope=col>...</th><th scope=col>&lt;chr&gt;</th><th scope=col>&lt;chr&gt;</th><th scope=col>&lt;chr&gt;</th><th scope=col>&lt;chr&gt;</th><th scope=col>&lt;chr&gt;</th><th scope=col>&lt;chr&gt;</th><th scope=col>&lt;chr&gt;</th><th scope=col>&lt;dbl&gt;</th><th scope=col>&lt;dbl&gt;</th><th scope=col>&lt;chr&gt;</th></tr>\n",
       "</thead>\n",
       "<tbody>\n",
       "\t<tr><td>Starbucks</td><td>72949</td><td>Farm Fresh-Elizabeth City #469</td><td>Licensed     </td><td>15736</td><td>NA                     </td><td>NA                                     </td><td>NA           </td><td>9999</td><td>Unknown</td><td>...</td><td>691 S Hughes Blvd           </td><td>NA</td><td>Elizabeth City</td><td>NC</td><td>27909-4530</td><td>US</td><td>(36.290986, -76.25259) </td><td>36.29099</td><td>-76.25259</td><td>06/22/2012 06:31:38 PM</td></tr>\n",
       "\t<tr><td>Starbucks</td><td> 9272</td><td>Roanoke Rapids                </td><td>Company Owned</td><td>14789</td><td>Lunch, Oven-warmed Food</td><td>Starbucks Card Mobile, Wireless Hotspot</td><td>Drive-Through</td><td>9999</td><td>Unknown</td><td>...</td><td>298 Premier Blvd.           </td><td>NA</td><td>Roanoke Rapids</td><td>NC</td><td>27870-5076</td><td>US</td><td>(36.4324, -77.6388)    </td><td>36.43240</td><td>-77.63880</td><td>06/22/2012 06:31:38 PM</td></tr>\n",
       "\t<tr><td>Starbucks</td><td>13258</td><td>Kitty Hawk                    </td><td>Company Owned</td><td>10765</td><td>Oven-warmed Food       </td><td>Starbucks Card Mobile                  </td><td>NA           </td><td>9999</td><td>Unknown</td><td>...</td><td>5597-A North Croatan Highway</td><td>NA</td><td>Kitty Hawk    </td><td>NC</td><td>27949-4090</td><td>US</td><td>(36.098345, -75.724577)</td><td>36.09835</td><td>-75.72458</td><td>06/22/2012 06:31:38 PM</td></tr>\n",
       "</tbody>\n",
       "</table>\n"
      ],
      "text/latex": [
       "A tibble: 3 × 23\n",
       "\\begin{tabular}{lllllllllllllllllllll}\n",
       " Brand & Store Number & Name & Ownership Type & Facility ID & Features - Products & Features - Service & Features - Stations & Food Region & Venue Type & ... & Street Line 1 & Street Line 2 & City & State & Zip & Country & Coordinates & Latitude & Longitude & Insert Date\\\\\n",
       " <chr> & <dbl> & <chr> & <chr> & <dbl> & <chr> & <chr> & <chr> & <dbl> & <chr> & ... & <chr> & <chr> & <chr> & <chr> & <chr> & <chr> & <chr> & <dbl> & <dbl> & <chr>\\\\\n",
       "\\hline\n",
       "\t Starbucks & 72949 & Farm Fresh-Elizabeth City \\#469 & Licensed      & 15736 & NA                      & NA                                      & NA            & 9999 & Unknown & ... & 691 S Hughes Blvd            & NA & Elizabeth City & NC & 27909-4530 & US & (36.290986, -76.25259)  & 36.29099 & -76.25259 & 06/22/2012 06:31:38 PM\\\\\n",
       "\t Starbucks &  9272 & Roanoke Rapids                 & Company Owned & 14789 & Lunch, Oven-warmed Food & Starbucks Card Mobile, Wireless Hotspot & Drive-Through & 9999 & Unknown & ... & 298 Premier Blvd.            & NA & Roanoke Rapids & NC & 27870-5076 & US & (36.4324, -77.6388)     & 36.43240 & -77.63880 & 06/22/2012 06:31:38 PM\\\\\n",
       "\t Starbucks & 13258 & Kitty Hawk                     & Company Owned & 10765 & Oven-warmed Food        & Starbucks Card Mobile                   & NA            & 9999 & Unknown & ... & 5597-A North Croatan Highway & NA & Kitty Hawk     & NC & 27949-4090 & US & (36.098345, -75.724577) & 36.09835 & -75.72458 & 06/22/2012 06:31:38 PM\\\\\n",
       "\\end{tabular}\n"
      ],
      "text/markdown": [
       "\n",
       "A tibble: 3 × 23\n",
       "\n",
       "| Brand &lt;chr&gt; | Store Number &lt;dbl&gt; | Name &lt;chr&gt; | Ownership Type &lt;chr&gt; | Facility ID &lt;dbl&gt; | Features - Products &lt;chr&gt; | Features - Service &lt;chr&gt; | Features - Stations &lt;chr&gt; | Food Region &lt;dbl&gt; | Venue Type &lt;chr&gt; | ... ... | Street Line 1 &lt;chr&gt; | Street Line 2 &lt;chr&gt; | City &lt;chr&gt; | State &lt;chr&gt; | Zip &lt;chr&gt; | Country &lt;chr&gt; | Coordinates &lt;chr&gt; | Latitude &lt;dbl&gt; | Longitude &lt;dbl&gt; | Insert Date &lt;chr&gt; |\n",
       "|---|---|---|---|---|---|---|---|---|---|---|---|---|---|---|---|---|---|---|---|---|\n",
       "| Starbucks | 72949 | Farm Fresh-Elizabeth City #469 | Licensed      | 15736 | NA                      | NA                                      | NA            | 9999 | Unknown | ... | 691 S Hughes Blvd            | NA | Elizabeth City | NC | 27909-4530 | US | (36.290986, -76.25259)  | 36.29099 | -76.25259 | 06/22/2012 06:31:38 PM |\n",
       "| Starbucks |  9272 | Roanoke Rapids                 | Company Owned | 14789 | Lunch, Oven-warmed Food | Starbucks Card Mobile, Wireless Hotspot | Drive-Through | 9999 | Unknown | ... | 298 Premier Blvd.            | NA | Roanoke Rapids | NC | 27870-5076 | US | (36.4324, -77.6388)     | 36.43240 | -77.63880 | 06/22/2012 06:31:38 PM |\n",
       "| Starbucks | 13258 | Kitty Hawk                     | Company Owned | 10765 | Oven-warmed Food        | Starbucks Card Mobile                   | NA            | 9999 | Unknown | ... | 5597-A North Croatan Highway | NA | Kitty Hawk     | NC | 27949-4090 | US | (36.098345, -75.724577) | 36.09835 | -75.72458 | 06/22/2012 06:31:38 PM |\n",
       "\n"
      ],
      "text/plain": [
       "  Brand     Store Number Name                           Ownership Type\n",
       "1 Starbucks 72949        Farm Fresh-Elizabeth City #469 Licensed      \n",
       "2 Starbucks  9272        Roanoke Rapids                 Company Owned \n",
       "3 Starbucks 13258        Kitty Hawk                     Company Owned \n",
       "  Facility ID Features - Products     Features - Service                     \n",
       "1 15736       NA                      NA                                     \n",
       "2 14789       Lunch, Oven-warmed Food Starbucks Card Mobile, Wireless Hotspot\n",
       "3 10765       Oven-warmed Food        Starbucks Card Mobile                  \n",
       "  Features - Stations Food Region Venue Type ... Street Line 1               \n",
       "1 NA                  9999        Unknown    ... 691 S Hughes Blvd           \n",
       "2 Drive-Through       9999        Unknown    ... 298 Premier Blvd.           \n",
       "3 NA                  9999        Unknown    ... 5597-A North Croatan Highway\n",
       "  Street Line 2 City           State Zip        Country Coordinates            \n",
       "1 NA            Elizabeth City NC    27909-4530 US      (36.290986, -76.25259) \n",
       "2 NA            Roanoke Rapids NC    27870-5076 US      (36.4324, -77.6388)    \n",
       "3 NA            Kitty Hawk     NC    27949-4090 US      (36.098345, -75.724577)\n",
       "  Latitude Longitude Insert Date           \n",
       "1 36.29099 -76.25259 06/22/2012 06:31:38 PM\n",
       "2 36.43240 -77.63880 06/22/2012 06:31:38 PM\n",
       "3 36.09835 -75.72458 06/22/2012 06:31:38 PM"
      ]
     },
     "metadata": {},
     "output_type": "display_data"
    }
   ],
   "source": [
    "starbucksNC <- starbucks  %>% \n",
    "  filter(State == \"NC\")\n",
    "\n",
    "starbucksNC[1:3,]"
   ]
  },
  {
   "cell_type": "code",
   "execution_count": 27,
   "metadata": {},
   "outputs": [],
   "source": []
  },
  {
   "cell_type": "code",
   "execution_count": 26,
   "metadata": {},
   "outputs": [
    {
     "name": "stderr",
     "output_type": "stream",
     "text": [
      "Linking to GEOS 3.8.0, GDAL 3.0.4, PROJ 6.3.1\n",
      "\n"
     ]
    }
   ],
   "source": [
    "library(sf)\n",
    "library(leaflet)"
   ]
  },
  {
   "cell_type": "code",
   "execution_count": 29,
   "metadata": {},
   "outputs": [],
   "source": [
    "sbux_sf <- st_as_sf(starbucksNC, coords = c(\"Longitude\", \"Latitude\"),  crs=4326)"
   ]
  },
  {
   "cell_type": "code",
   "execution_count": 28,
   "metadata": {},
   "outputs": [],
   "source": [
    "mapview(starbucksNC, xcol = \"Longitude\", ycol = \"Latitude\", crs = 4269, grid = FALSE)"
   ]
  },
  {
   "cell_type": "code",
   "execution_count": 30,
   "metadata": {},
   "outputs": [],
   "source": [
    "mapview(sbux_sf)"
   ]
  },
  {
   "cell_type": "code",
   "execution_count": 31,
   "metadata": {},
   "outputs": [],
   "source": [
    "mapview(breweries)"
   ]
  },
  {
   "cell_type": "code",
   "execution_count": null,
   "metadata": {},
   "outputs": [],
   "source": []
  }
 ],
 "metadata": {
  "kernelspec": {
   "display_name": "R",
   "language": "R",
   "name": "ir"
  },
  "language_info": {
   "codemirror_mode": "r",
   "file_extension": ".r",
   "mimetype": "text/x-r-source",
   "name": "R",
   "pygments_lexer": "r",
   "version": "3.6.3"
  }
 },
 "nbformat": 4,
 "nbformat_minor": 4
}
