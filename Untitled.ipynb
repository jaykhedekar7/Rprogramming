{
 "cells": [
  {
   "cell_type": "code",
   "execution_count": 1,
   "metadata": {},
   "outputs": [
    {
     "name": "stderr",
     "output_type": "stream",
     "text": [
      "\n",
      "Attaching package: 'dplyr'\n",
      "\n",
      "\n",
      "The following objects are masked from 'package:stats':\n",
      "\n",
      "    filter, lag\n",
      "\n",
      "\n",
      "The following objects are masked from 'package:base':\n",
      "\n",
      "    intersect, setdiff, setequal, union\n",
      "\n",
      "\n",
      "corrplot 0.84 loaded\n",
      "\n"
     ]
    }
   ],
   "source": [
    "library(dplyr)\n",
    "library(ggplot2)\n",
    "library(readr)\n",
    "library(tidyr)\n",
    "library(corrplot)"
   ]
  },
  {
   "cell_type": "code",
   "execution_count": 2,
   "metadata": {},
   "outputs": [
    {
     "name": "stderr",
     "output_type": "stream",
     "text": [
      "Parsed with column specification:\n",
      "cols(\n",
      "  .default = col_double(),\n",
      "  State = \u001b[31mcol_character()\u001b[39m,\n",
      "  state_code = \u001b[31mcol_character()\u001b[39m,\n",
      "  region = \u001b[31mcol_character()\u001b[39m,\n",
      "  governor = \u001b[31mcol_character()\u001b[39m,\n",
      "  psychRegions = \u001b[31mcol_character()\u001b[39m\n",
      ")\n",
      "\n",
      "See spec(...) for full column specifications.\n",
      "\n"
     ]
    }
   ],
   "source": [
    "data <- read_csv('datafile.csv')"
   ]
  },
  {
   "cell_type": "code",
   "execution_count": 3,
   "metadata": {},
   "outputs": [
    {
     "name": "stdout",
     "output_type": "stream",
     "text": [
      "Rows: 48\n",
      "Columns: 22\n",
      "$ State             \u001b[3m\u001b[90m<chr>\u001b[39m\u001b[23m \"Alabama\", \"Arizona\", \"Arkansas\", \"California\", \"...\n",
      "$ state_code        \u001b[3m\u001b[90m<chr>\u001b[39m\u001b[23m \"AL\", \"AZ\", \"AR\", \"CA\", \"CO\", \"CT\", \"DE\", \"FL\", \"...\n",
      "$ region            \u001b[3m\u001b[90m<chr>\u001b[39m\u001b[23m \"South\", \"West\", \"South\", \"West\", \"West\", \"Northe...\n",
      "$ governor          \u001b[3m\u001b[90m<chr>\u001b[39m\u001b[23m \"Republican\", \"Republican\", \"Republican\", \"Democr...\n",
      "$ psychRegions      \u001b[3m\u001b[90m<chr>\u001b[39m\u001b[23m \"Friendly and Conventional\", \"Relaxed and Creativ...\n",
      "$ extraversion      \u001b[3m\u001b[90m<dbl>\u001b[39m\u001b[23m 55.5, 50.6, 49.9, 51.4, 45.3, 57.6, 47.0, 60.9, 6...\n",
      "$ agreeableness     \u001b[3m\u001b[90m<dbl>\u001b[39m\u001b[23m 52.7, 46.6, 52.7, 49.0, 47.5, 38.6, 38.8, 50.7, 6...\n",
      "$ conscientiousness \u001b[3m\u001b[90m<dbl>\u001b[39m\u001b[23m 55.5, 58.4, 41.0, 43.2, 58.8, 34.2, 36.5, 62.7, 6...\n",
      "$ neuroticism       \u001b[3m\u001b[90m<dbl>\u001b[39m\u001b[23m 48.7, 38.1, 56.2, 39.1, 34.3, 53.4, 62.4, 40.8, 3...\n",
      "$ openness          \u001b[3m\u001b[90m<dbl>\u001b[39m\u001b[23m 42.7, 54.7, 40.3, 65.0, 57.9, 53.9, 42.7, 61.0, 5...\n",
      "$ instagram         \u001b[3m\u001b[90m<dbl>\u001b[39m\u001b[23m 0.64, 0.18, 0.46, 1.47, -1.04, 0.37, 1.48, 0.85, ...\n",
      "$ facebook          \u001b[3m\u001b[90m<dbl>\u001b[39m\u001b[23m 1.65, -0.26, 1.10, -0.42, -1.06, -0.98, -1.12, 0....\n",
      "$ retweet           \u001b[3m\u001b[90m<dbl>\u001b[39m\u001b[23m 0.35, -0.57, -0.60, 0.48, -0.90, 1.15, 1.19, -0.2...\n",
      "$ entrepreneur      \u001b[3m\u001b[90m<dbl>\u001b[39m\u001b[23m 0.26, 0.56, 0.25, 0.50, 0.02, 0.07, 2.55, 0.78, 1...\n",
      "$ gdpr              \u001b[3m\u001b[90m<dbl>\u001b[39m\u001b[23m -0.77, -0.31, -0.60, 1.12, 0.59, 0.71, 1.21, -0.2...\n",
      "$ privacy           \u001b[3m\u001b[90m<dbl>\u001b[39m\u001b[23m 0.58, -0.45, 0.69, 0.23, -0.22, 0.36, 0.90, -0.14...\n",
      "$ university        \u001b[3m\u001b[90m<dbl>\u001b[39m\u001b[23m 1.74, -0.77, 0.02, -1.92, -0.44, 0.37, 2.19, -1.1...\n",
      "$ mortgage          \u001b[3m\u001b[90m<dbl>\u001b[39m\u001b[23m 1.41, 1.01, -0.66, -0.88, 1.49, 0.48, 1.66, 0.11,...\n",
      "$ volunteering      \u001b[3m\u001b[90m<dbl>\u001b[39m\u001b[23m -1.49, 0.96, -1.19, 0.57, 1.01, 1.28, 1.37, 0.46,...\n",
      "$ museum            \u001b[3m\u001b[90m<dbl>\u001b[39m\u001b[23m -1.11, -0.13, -0.95, 0.05, 0.72, 1.18, 0.70, -0.7...\n",
      "$ scrapbook         \u001b[3m\u001b[90m<dbl>\u001b[39m\u001b[23m 0.06, 0.34, 0.85, -0.69, -0.34, -0.81, -0.73, -0....\n",
      "$ modernDance       \u001b[3m\u001b[90m<dbl>\u001b[39m\u001b[23m -1.27, 0.41, -1.44, 0.38, -0.29, 0.55, -0.22, -0....\n"
     ]
    }
   ],
   "source": [
    "glimpse(data)"
   ]
  },
  {
   "cell_type": "code",
   "execution_count": 4,
   "metadata": {},
   "outputs": [],
   "source": [
    "quant_data <- data %>% select(!c(State, state_code, region))"
   ]
  },
  {
   "cell_type": "code",
   "execution_count": 5,
   "metadata": {},
   "outputs": [],
   "source": [
    "quant_data <- quant_data %>% select(!c(governor, psychRegions))"
   ]
  },
  {
   "cell_type": "code",
   "execution_count": 6,
   "metadata": {},
   "outputs": [
    {
     "data": {
      "text/html": [
       "<table>\n",
       "<caption>A tibble: 1 × 4</caption>\n",
       "<thead>\n",
       "\t<tr><th scope=col>mean_fb</th><th scope=col>median_fb</th><th scope=col>mean_insta</th><th scope=col>median_insta</th></tr>\n",
       "\t<tr><th scope=col>&lt;dbl&gt;</th><th scope=col>&lt;dbl&gt;</th><th scope=col>&lt;dbl&gt;</th><th scope=col>&lt;dbl&gt;</th></tr>\n",
       "</thead>\n",
       "<tbody>\n",
       "\t<tr><td>0.095625</td><td>-0.05</td><td>-0.03375</td><td>-0.125</td></tr>\n",
       "</tbody>\n",
       "</table>\n"
      ],
      "text/latex": [
       "A tibble: 1 × 4\n",
       "\\begin{tabular}{llll}\n",
       " mean\\_fb & median\\_fb & mean\\_insta & median\\_insta\\\\\n",
       " <dbl> & <dbl> & <dbl> & <dbl>\\\\\n",
       "\\hline\n",
       "\t 0.095625 & -0.05 & -0.03375 & -0.125\\\\\n",
       "\\end{tabular}\n"
      ],
      "text/markdown": [
       "\n",
       "A tibble: 1 × 4\n",
       "\n",
       "| mean_fb &lt;dbl&gt; | median_fb &lt;dbl&gt; | mean_insta &lt;dbl&gt; | median_insta &lt;dbl&gt; |\n",
       "|---|---|---|---|\n",
       "| 0.095625 | -0.05 | -0.03375 | -0.125 |\n",
       "\n"
      ],
      "text/plain": [
       "  mean_fb  median_fb mean_insta median_insta\n",
       "1 0.095625 -0.05     -0.03375   -0.125      "
      ]
     },
     "metadata": {},
     "output_type": "display_data"
    }
   ],
   "source": [
    "quant_data %>% summarize(mean_fb = mean(facebook),\n",
    "                         median_fb = median(facebook),\n",
    "                         mean_insta = mean(instagram),\n",
    "                         median_insta = median(instagram))"
   ]
  },
  {
   "cell_type": "markdown",
   "metadata": {},
   "source": [
    "## $\\hat y = \\hat f(\\vec x)$"
   ]
  },
  {
   "cell_type": "code",
   "execution_count": 7,
   "metadata": {},
   "outputs": [
    {
     "data": {
      "text/plain": [
       "\n",
       "\tPearson's product-moment correlation\n",
       "\n",
       "data:  quant_data$scrapbook and quant_data$museum\n",
       "t = -3.7707, df = 46, p-value = 0.0004632\n",
       "alternative hypothesis: true correlation is not equal to 0\n",
       "95 percent confidence interval:\n",
       " -0.6766266 -0.2340948\n",
       "sample estimates:\n",
       "       cor \n",
       "-0.4859095 \n"
      ]
     },
     "metadata": {},
     "output_type": "display_data"
    }
   ],
   "source": [
    "cor.test(quant_data$scrapbook, quant_data$museum,method=c(\"pearson\"))"
   ]
  },
  {
   "cell_type": "markdown",
   "metadata": {},
   "source": [
    "### To make visible the superimposed points on scatter plot we add jitter"
   ]
  },
  {
   "cell_type": "code",
   "execution_count": 8,
   "metadata": {},
   "outputs": [
    {
     "data": {
      "image/png": "[encoded data removed]",
      "text/plain": [
       "plot without title"
      ]
     },
     "metadata": {
      "image/png": {
       "height": 420,
       "width": 420
      }
     },
     "output_type": "display_data"
    }
   ],
   "source": [
    "ggplot(data, aes(x=instagram, y=facebook))+\n",
    "    geom_point()+\n",
    "    facet_wrap(~governor)"
   ]
  },
  {
   "cell_type": "code",
   "execution_count": 9,
   "metadata": {},
   "outputs": [
    {
     "data": {
      "image/png": "[encoded data removed]",
      "text/plain": [
       "plot without title"
      ]
     },
     "metadata": {
      "image/png": {
       "height": 420,
       "width": 420
      }
     },
     "output_type": "display_data"
    },
    {
     "data": {
      "image/png": "[encoded data removed]",
      "text/plain": [
       "plot without title"
      ]
     },
     "metadata": {
      "image/png": {
       "height": 420,
       "width": 420
      }
     },
     "output_type": "display_data"
    }
   ],
   "source": [
    "ggplot(quant_data, aes(x=instagram, y=facebook))+\n",
    "    geom_point()\n",
    "\n",
    "ggplot(quant_data, aes(x=instagram, y=facebook))+\n",
    "    geom_point(position = position_jitter(0.3))"
   ]
  },
  {
   "cell_type": "code",
   "execution_count": 10,
   "metadata": {},
   "outputs": [
    {
     "name": "stderr",
     "output_type": "stream",
     "text": [
      "`summarise()` ungrouping output (override with `.groups` argument)\n",
      "\n"
     ]
    },
    {
     "data": {
      "text/html": [
       "<table>\n",
       "<caption>A tibble: 2 × 4</caption>\n",
       "<thead>\n",
       "\t<tr><th scope=col>governor</th><th scope=col>mean_fb</th><th scope=col>mean_insta</th><th scope=col>mean_volunteer</th></tr>\n",
       "\t<tr><th scope=col>&lt;chr&gt;</th><th scope=col>&lt;dbl&gt;</th><th scope=col>&lt;dbl&gt;</th><th scope=col>&lt;dbl&gt;</th></tr>\n",
       "</thead>\n",
       "<tbody>\n",
       "\t<tr><td>Democrat  </td><td>-0.3400000</td><td> 0.3140000</td><td> 0.5546667</td></tr>\n",
       "\t<tr><td>Republican</td><td> 0.2936364</td><td>-0.1918182</td><td>-0.2727273</td></tr>\n",
       "</tbody>\n",
       "</table>\n"
      ],
      "text/latex": [
       "A tibble: 2 × 4\n",
       "\\begin{tabular}{llll}\n",
       " governor & mean\\_fb & mean\\_insta & mean\\_volunteer\\\\\n",
       " <chr> & <dbl> & <dbl> & <dbl>\\\\\n",
       "\\hline\n",
       "\t Democrat   & -0.3400000 &  0.3140000 &  0.5546667\\\\\n",
       "\t Republican &  0.2936364 & -0.1918182 & -0.2727273\\\\\n",
       "\\end{tabular}\n"
      ],
      "text/markdown": [
       "\n",
       "A tibble: 2 × 4\n",
       "\n",
       "| governor &lt;chr&gt; | mean_fb &lt;dbl&gt; | mean_insta &lt;dbl&gt; | mean_volunteer &lt;dbl&gt; |\n",
       "|---|---|---|---|\n",
       "| Democrat   | -0.3400000 |  0.3140000 |  0.5546667 |\n",
       "| Republican |  0.2936364 | -0.1918182 | -0.2727273 |\n",
       "\n"
      ],
      "text/plain": [
       "  governor   mean_fb    mean_insta mean_volunteer\n",
       "1 Democrat   -0.3400000  0.3140000  0.5546667    \n",
       "2 Republican  0.2936364 -0.1918182 -0.2727273    "
      ]
     },
     "metadata": {},
     "output_type": "display_data"
    }
   ],
   "source": [
    "data %>% group_by(governor) %>% \n",
    "         summarize(mean_fb = mean(facebook),\n",
    "                   mean_insta = mean(instagram),\n",
    "                   mean_volunteer = mean(volunteering))"
   ]
  },
  {
   "cell_type": "code",
   "execution_count": null,
   "metadata": {},
   "outputs": [],
   "source": []
  },
  {
   "cell_type": "code",
   "execution_count": null,
   "metadata": {},
   "outputs": [],
   "source": []
  }
 ],
 "metadata": {
  "kernelspec": {
   "display_name": "R",
   "language": "R",
   "name": "ir"
  },
  "language_info": {
   "codemirror_mode": "r",
   "file_extension": ".r",
   "mimetype": "text/x-r-source",
   "name": "R",
   "pygments_lexer": "r",
   "version": "3.6.3"
  }
 },
 "nbformat": 4,
 "nbformat_minor": 4
}
